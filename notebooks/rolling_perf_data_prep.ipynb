{
 "cells": [
  {
   "cell_type": "markdown",
   "metadata": {},
   "source": [
    "# Data preparation for predicting match results from past performance with a rolling window"
   ]
  },
  {
   "cell_type": "markdown",
   "metadata": {},
   "source": [
    "Dependencies"
   ]
  },
  {
   "cell_type": "code",
   "execution_count": 66,
   "metadata": {},
   "outputs": [],
   "source": [
    "import pandas as pd\n",
    "from datetime import datetime\n",
    "import numpy as np"
   ]
  },
  {
   "cell_type": "markdown",
   "metadata": {},
   "source": [
    "**Data**: the dataset is downloaded from kaggle: https://www.kaggle.com/datasets/martj42/international-football-results-from-1872-to-2017 \n",
    "From 3 files, results.csv is used here."
   ]
  },
  {
   "cell_type": "code",
   "execution_count": 67,
   "metadata": {},
   "outputs": [
    {
     "name": "stdout",
     "output_type": "stream",
     "text": [
      "<class 'pandas.core.frame.DataFrame'>\n",
      "RangeIndex: 47399 entries, 0 to 47398\n",
      "Data columns (total 9 columns):\n",
      " #   Column      Non-Null Count  Dtype \n",
      "---  ------      --------------  ----- \n",
      " 0   date        47399 non-null  object\n",
      " 1   home_team   47399 non-null  object\n",
      " 2   away_team   47399 non-null  object\n",
      " 3   home_score  47399 non-null  int64 \n",
      " 4   away_score  47399 non-null  int64 \n",
      " 5   tournament  47399 non-null  object\n",
      " 6   city        47399 non-null  object\n",
      " 7   country     47399 non-null  object\n",
      " 8   neutral     47399 non-null  bool  \n",
      "dtypes: bool(1), int64(2), object(6)\n",
      "memory usage: 2.9+ MB\n"
     ]
    },
    {
     "data": {
      "text/html": [
       "<div>\n",
       "<style scoped>\n",
       "    .dataframe tbody tr th:only-of-type {\n",
       "        vertical-align: middle;\n",
       "    }\n",
       "\n",
       "    .dataframe tbody tr th {\n",
       "        vertical-align: top;\n",
       "    }\n",
       "\n",
       "    .dataframe thead th {\n",
       "        text-align: right;\n",
       "    }\n",
       "</style>\n",
       "<table border=\"1\" class=\"dataframe\">\n",
       "  <thead>\n",
       "    <tr style=\"text-align: right;\">\n",
       "      <th></th>\n",
       "      <th>date</th>\n",
       "      <th>home_team</th>\n",
       "      <th>away_team</th>\n",
       "      <th>home_score</th>\n",
       "      <th>away_score</th>\n",
       "      <th>tournament</th>\n",
       "      <th>city</th>\n",
       "      <th>country</th>\n",
       "      <th>neutral</th>\n",
       "    </tr>\n",
       "  </thead>\n",
       "  <tbody>\n",
       "    <tr>\n",
       "      <th>0</th>\n",
       "      <td>1872-11-30</td>\n",
       "      <td>Scotland</td>\n",
       "      <td>England</td>\n",
       "      <td>0</td>\n",
       "      <td>0</td>\n",
       "      <td>Friendly</td>\n",
       "      <td>Glasgow</td>\n",
       "      <td>Scotland</td>\n",
       "      <td>False</td>\n",
       "    </tr>\n",
       "    <tr>\n",
       "      <th>1</th>\n",
       "      <td>1873-03-08</td>\n",
       "      <td>England</td>\n",
       "      <td>Scotland</td>\n",
       "      <td>4</td>\n",
       "      <td>2</td>\n",
       "      <td>Friendly</td>\n",
       "      <td>London</td>\n",
       "      <td>England</td>\n",
       "      <td>False</td>\n",
       "    </tr>\n",
       "    <tr>\n",
       "      <th>2</th>\n",
       "      <td>1874-03-07</td>\n",
       "      <td>Scotland</td>\n",
       "      <td>England</td>\n",
       "      <td>2</td>\n",
       "      <td>1</td>\n",
       "      <td>Friendly</td>\n",
       "      <td>Glasgow</td>\n",
       "      <td>Scotland</td>\n",
       "      <td>False</td>\n",
       "    </tr>\n",
       "    <tr>\n",
       "      <th>3</th>\n",
       "      <td>1875-03-06</td>\n",
       "      <td>England</td>\n",
       "      <td>Scotland</td>\n",
       "      <td>2</td>\n",
       "      <td>2</td>\n",
       "      <td>Friendly</td>\n",
       "      <td>London</td>\n",
       "      <td>England</td>\n",
       "      <td>False</td>\n",
       "    </tr>\n",
       "    <tr>\n",
       "      <th>4</th>\n",
       "      <td>1876-03-04</td>\n",
       "      <td>Scotland</td>\n",
       "      <td>England</td>\n",
       "      <td>3</td>\n",
       "      <td>0</td>\n",
       "      <td>Friendly</td>\n",
       "      <td>Glasgow</td>\n",
       "      <td>Scotland</td>\n",
       "      <td>False</td>\n",
       "    </tr>\n",
       "  </tbody>\n",
       "</table>\n",
       "</div>"
      ],
      "text/plain": [
       "         date home_team away_team  home_score  away_score tournament     city  \\\n",
       "0  1872-11-30  Scotland   England           0           0   Friendly  Glasgow   \n",
       "1  1873-03-08   England  Scotland           4           2   Friendly   London   \n",
       "2  1874-03-07  Scotland   England           2           1   Friendly  Glasgow   \n",
       "3  1875-03-06   England  Scotland           2           2   Friendly   London   \n",
       "4  1876-03-04  Scotland   England           3           0   Friendly  Glasgow   \n",
       "\n",
       "    country  neutral  \n",
       "0  Scotland    False  \n",
       "1   England    False  \n",
       "2  Scotland    False  \n",
       "3   England    False  \n",
       "4  Scotland    False  "
      ]
     },
     "execution_count": 67,
     "metadata": {},
     "output_type": "execute_result"
    }
   ],
   "source": [
    "df_raw = pd.read_csv(\"../data/raw/results.csv\")\n",
    "df_raw.info() ; df_raw.head()"
   ]
  },
  {
   "cell_type": "markdown",
   "metadata": {},
   "source": [
    "We take the year 1975 as a cut off, when Copa América was re-established after a hiatus. After this, the international football tournament structure has been relatively stable. To take into account a maximum of 2 years before, we limit to the time frame to begin in 1973."
   ]
  },
  {
   "cell_type": "code",
   "execution_count": 68,
   "metadata": {},
   "outputs": [
    {
     "name": "stdout",
     "output_type": "stream",
     "text": [
      "<class 'pandas.core.frame.DataFrame'>\n",
      "Index: 38299 entries, 9100 to 47398\n",
      "Data columns (total 9 columns):\n",
      " #   Column      Non-Null Count  Dtype         \n",
      "---  ------      --------------  -----         \n",
      " 0   date        38299 non-null  datetime64[ns]\n",
      " 1   home_team   38299 non-null  object        \n",
      " 2   away_team   38299 non-null  object        \n",
      " 3   home_score  38299 non-null  int64         \n",
      " 4   away_score  38299 non-null  int64         \n",
      " 5   tournament  38299 non-null  object        \n",
      " 6   city        38299 non-null  object        \n",
      " 7   country     38299 non-null  object        \n",
      " 8   neutral     38299 non-null  bool          \n",
      "dtypes: bool(1), datetime64[ns](1), int64(2), object(5)\n",
      "memory usage: 2.7+ MB\n"
     ]
    },
    {
     "data": {
      "text/html": [
       "<div>\n",
       "<style scoped>\n",
       "    .dataframe tbody tr th:only-of-type {\n",
       "        vertical-align: middle;\n",
       "    }\n",
       "\n",
       "    .dataframe tbody tr th {\n",
       "        vertical-align: top;\n",
       "    }\n",
       "\n",
       "    .dataframe thead th {\n",
       "        text-align: right;\n",
       "    }\n",
       "</style>\n",
       "<table border=\"1\" class=\"dataframe\">\n",
       "  <thead>\n",
       "    <tr style=\"text-align: right;\">\n",
       "      <th></th>\n",
       "      <th>date</th>\n",
       "      <th>home_team</th>\n",
       "      <th>away_team</th>\n",
       "      <th>home_score</th>\n",
       "      <th>away_score</th>\n",
       "      <th>tournament</th>\n",
       "      <th>city</th>\n",
       "      <th>country</th>\n",
       "      <th>neutral</th>\n",
       "    </tr>\n",
       "  </thead>\n",
       "  <tbody>\n",
       "    <tr>\n",
       "      <th>9100</th>\n",
       "      <td>1973-01-01</td>\n",
       "      <td>Gambia</td>\n",
       "      <td>Senegal</td>\n",
       "      <td>2</td>\n",
       "      <td>1</td>\n",
       "      <td>Friendly</td>\n",
       "      <td>Banjul</td>\n",
       "      <td>Gambia</td>\n",
       "      <td>False</td>\n",
       "    </tr>\n",
       "    <tr>\n",
       "      <th>9101</th>\n",
       "      <td>1973-01-08</td>\n",
       "      <td>Nigeria</td>\n",
       "      <td>Ghana</td>\n",
       "      <td>4</td>\n",
       "      <td>2</td>\n",
       "      <td>All-African Games</td>\n",
       "      <td>Lagos</td>\n",
       "      <td>Nigeria</td>\n",
       "      <td>False</td>\n",
       "    </tr>\n",
       "    <tr>\n",
       "      <th>9102</th>\n",
       "      <td>1973-01-08</td>\n",
       "      <td>Algeria</td>\n",
       "      <td>Tanzania</td>\n",
       "      <td>4</td>\n",
       "      <td>2</td>\n",
       "      <td>All-African Games</td>\n",
       "      <td>Lagos</td>\n",
       "      <td>Nigeria</td>\n",
       "      <td>True</td>\n",
       "    </tr>\n",
       "    <tr>\n",
       "      <th>9103</th>\n",
       "      <td>1973-01-08</td>\n",
       "      <td>Congo</td>\n",
       "      <td>Burkina Faso</td>\n",
       "      <td>3</td>\n",
       "      <td>0</td>\n",
       "      <td>All-African Games</td>\n",
       "      <td>Ibadan</td>\n",
       "      <td>Nigeria</td>\n",
       "      <td>True</td>\n",
       "    </tr>\n",
       "    <tr>\n",
       "      <th>9104</th>\n",
       "      <td>1973-01-08</td>\n",
       "      <td>Guinea</td>\n",
       "      <td>Egypt</td>\n",
       "      <td>4</td>\n",
       "      <td>1</td>\n",
       "      <td>All-African Games</td>\n",
       "      <td>Ibadan</td>\n",
       "      <td>Nigeria</td>\n",
       "      <td>True</td>\n",
       "    </tr>\n",
       "  </tbody>\n",
       "</table>\n",
       "</div>"
      ],
      "text/plain": [
       "           date home_team     away_team  home_score  away_score  \\\n",
       "9100 1973-01-01    Gambia       Senegal           2           1   \n",
       "9101 1973-01-08   Nigeria         Ghana           4           2   \n",
       "9102 1973-01-08   Algeria      Tanzania           4           2   \n",
       "9103 1973-01-08     Congo  Burkina Faso           3           0   \n",
       "9104 1973-01-08    Guinea         Egypt           4           1   \n",
       "\n",
       "             tournament    city  country  neutral  \n",
       "9100           Friendly  Banjul   Gambia    False  \n",
       "9101  All-African Games   Lagos  Nigeria    False  \n",
       "9102  All-African Games   Lagos  Nigeria     True  \n",
       "9103  All-African Games  Ibadan  Nigeria     True  \n",
       "9104  All-African Games  Ibadan  Nigeria     True  "
      ]
     },
     "execution_count": 68,
     "metadata": {},
     "output_type": "execute_result"
    }
   ],
   "source": [
    "df_raw[\"date\"] = pd.to_datetime(df_raw[\"date\"], format = \"%Y-%m-%d\")\n",
    "df_recent = df_raw[df_raw[\"date\"] >= datetime(1973, 1, 1)].copy()\n",
    "df_recent.info() ; df_recent.head()"
   ]
  },
  {
   "cell_type": "markdown",
   "metadata": {},
   "source": [
    "## Preparing data for rolling window aggregations\n",
    "\n",
    "To use the 'rolling' method of 'pandas', we set the date as index. Since dates are not unique for each match, we also create a match_id column. "
   ]
  },
  {
   "cell_type": "code",
   "execution_count": 69,
   "metadata": {},
   "outputs": [],
   "source": [
    "df_recent = df_recent.set_index(\"date\").sort_index()\n",
    "df_recent[\"match_id\"] = np.arange(1, df_recent.shape[0] + 1, 1)"
   ]
  },
  {
   "cell_type": "markdown",
   "metadata": {},
   "source": [
    "For simplicity, we will not distinguish between home and away performance, and transform the data into a team-level dataset."
   ]
  },
  {
   "cell_type": "code",
   "execution_count": 70,
   "metadata": {},
   "outputs": [],
   "source": [
    "df_hometeams = df_recent.drop(columns = \"away_team\")\\\n",
    "    .rename(columns = {\n",
    "        \"home_team\" : \"team\",\n",
    "        \"home_score\" : \"scored\",\n",
    "        \"away_score\" : \"conceded\"\n",
    "    }).copy()\n",
    "df_awayteams = df_recent.drop(columns = \"home_team\")\\\n",
    "    .rename(columns = {\n",
    "        \"away_team\" : \"team\",\n",
    "        \"away_score\" : \"scored\",\n",
    "        \"home_score\" : \"conceded\"\n",
    "    }).copy()\n",
    "df_teams = pd.concat([df_hometeams, df_awayteams], axis = 0)\\\n",
    "    .sort_values(\"match_id\")"
   ]
  },
  {
   "cell_type": "markdown",
   "metadata": {},
   "source": [
    "We create win and draw columns."
   ]
  },
  {
   "cell_type": "code",
   "execution_count": 71,
   "metadata": {},
   "outputs": [],
   "source": [
    "df_teams[\"win\"] = (df_teams[\"scored\"] > df_teams[\"conceded\"]).astype(int)\n",
    "df_teams[\"draw\"] = (df_teams[\"scored\"] == df_teams[\"conceded\"].astype(int))"
   ]
  },
  {
   "cell_type": "markdown",
   "metadata": {},
   "source": [
    "## Calculating performance metrics\n",
    "\n",
    "We calculate performance metrics (win and draw ratios, average goals scored and conceded) in rolling windows of 6, 12, 18, and 24 months (defined in terms of days)."
   ]
  },
  {
   "cell_type": "code",
   "execution_count": 72,
   "metadata": {},
   "outputs": [],
   "source": [
    "dict_perf_dfs = {}\n",
    "for window in [\"183D\", \"365D\", \"548D\", \"730D\"]:\n",
    "    # stats calculated without the current row\n",
    "    df_stats = df_teams.groupby(\"team\").rolling(window, closed = \"left\").agg({\n",
    "        \"win\" : \"mean\",\n",
    "        \"draw\" : \"mean\",\n",
    "        \"scored\" : \"mean\",\n",
    "        \"conceded\" : \"mean\"\n",
    "    }).reset_index().rename(columns = { \n",
    "        # pandas named aggregation doesn't work with rolling, hence separate renaming\n",
    "        \"win\" : f\"win_ratio_roll{window}\", \n",
    "        \"draw\" : f\"draw_ratio_roll{window}\", \n",
    "        \"scored\" : f\"avg_goals_scored_roll{window}\", \n",
    "        \"conceded\" : f\"avg_goals_conceded_roll{window}\"\n",
    "    })\n",
    "    # match_id of the current row\n",
    "    df_matchid = df_teams.groupby(\"team\").rolling(window).agg({\n",
    "         \"match_id\" : \"max\"\n",
    "    }).reset_index()\n",
    "    dict_perf_dfs[f\"df_perf_roll{window}\"] = pd.concat([df_stats, df_matchid[[\"match_id\"]]], axis = 1)\n"
   ]
  },
  {
   "cell_type": "code",
   "execution_count": 73,
   "metadata": {},
   "outputs": [
    {
     "data": {
      "text/html": [
       "<div>\n",
       "<style scoped>\n",
       "    .dataframe tbody tr th:only-of-type {\n",
       "        vertical-align: middle;\n",
       "    }\n",
       "\n",
       "    .dataframe tbody tr th {\n",
       "        vertical-align: top;\n",
       "    }\n",
       "\n",
       "    .dataframe thead th {\n",
       "        text-align: right;\n",
       "    }\n",
       "</style>\n",
       "<table border=\"1\" class=\"dataframe\">\n",
       "  <thead>\n",
       "    <tr style=\"text-align: right;\">\n",
       "      <th></th>\n",
       "      <th>team</th>\n",
       "      <th>date</th>\n",
       "      <th>win_ratio_roll183D</th>\n",
       "      <th>draw_ratio_roll183D</th>\n",
       "      <th>avg_goals_scored_roll183D</th>\n",
       "      <th>avg_goals_conceded_roll183D</th>\n",
       "      <th>match_id</th>\n",
       "    </tr>\n",
       "  </thead>\n",
       "  <tbody>\n",
       "    <tr>\n",
       "      <th>0</th>\n",
       "      <td>Abkhazia</td>\n",
       "      <td>2012-09-25</td>\n",
       "      <td>NaN</td>\n",
       "      <td>NaN</td>\n",
       "      <td>NaN</td>\n",
       "      <td>NaN</td>\n",
       "      <td>27115.0</td>\n",
       "    </tr>\n",
       "    <tr>\n",
       "      <th>1</th>\n",
       "      <td>Abkhazia</td>\n",
       "      <td>2012-10-21</td>\n",
       "      <td>0.000000</td>\n",
       "      <td>1.000000</td>\n",
       "      <td>1.000000</td>\n",
       "      <td>1.000000</td>\n",
       "      <td>27258.0</td>\n",
       "    </tr>\n",
       "    <tr>\n",
       "      <th>2</th>\n",
       "      <td>Abkhazia</td>\n",
       "      <td>2014-06-01</td>\n",
       "      <td>NaN</td>\n",
       "      <td>NaN</td>\n",
       "      <td>NaN</td>\n",
       "      <td>NaN</td>\n",
       "      <td>28628.0</td>\n",
       "    </tr>\n",
       "    <tr>\n",
       "      <th>3</th>\n",
       "      <td>Abkhazia</td>\n",
       "      <td>2014-06-02</td>\n",
       "      <td>0.000000</td>\n",
       "      <td>1.000000</td>\n",
       "      <td>1.000000</td>\n",
       "      <td>1.000000</td>\n",
       "      <td>28633.0</td>\n",
       "    </tr>\n",
       "    <tr>\n",
       "      <th>4</th>\n",
       "      <td>Abkhazia</td>\n",
       "      <td>2014-06-04</td>\n",
       "      <td>0.500000</td>\n",
       "      <td>0.500000</td>\n",
       "      <td>1.500000</td>\n",
       "      <td>1.000000</td>\n",
       "      <td>28659.0</td>\n",
       "    </tr>\n",
       "    <tr>\n",
       "      <th>...</th>\n",
       "      <td>...</td>\n",
       "      <td>...</td>\n",
       "      <td>...</td>\n",
       "      <td>...</td>\n",
       "      <td>...</td>\n",
       "      <td>...</td>\n",
       "      <td>...</td>\n",
       "    </tr>\n",
       "    <tr>\n",
       "      <th>76593</th>\n",
       "      <td>Åland Islands</td>\n",
       "      <td>2017-06-29</td>\n",
       "      <td>0.333333</td>\n",
       "      <td>0.666667</td>\n",
       "      <td>1.000000</td>\n",
       "      <td>0.666667</td>\n",
       "      <td>31646.0</td>\n",
       "    </tr>\n",
       "    <tr>\n",
       "      <th>76594</th>\n",
       "      <td>Åland Islands</td>\n",
       "      <td>2023-07-09</td>\n",
       "      <td>NaN</td>\n",
       "      <td>NaN</td>\n",
       "      <td>NaN</td>\n",
       "      <td>NaN</td>\n",
       "      <td>37075.0</td>\n",
       "    </tr>\n",
       "    <tr>\n",
       "      <th>76595</th>\n",
       "      <td>Åland Islands</td>\n",
       "      <td>2023-07-10</td>\n",
       "      <td>0.000000</td>\n",
       "      <td>0.000000</td>\n",
       "      <td>0.000000</td>\n",
       "      <td>2.000000</td>\n",
       "      <td>37085.0</td>\n",
       "    </tr>\n",
       "    <tr>\n",
       "      <th>76596</th>\n",
       "      <td>Åland Islands</td>\n",
       "      <td>2023-07-11</td>\n",
       "      <td>0.000000</td>\n",
       "      <td>0.000000</td>\n",
       "      <td>0.500000</td>\n",
       "      <td>3.000000</td>\n",
       "      <td>37094.0</td>\n",
       "    </tr>\n",
       "    <tr>\n",
       "      <th>76597</th>\n",
       "      <td>Åland Islands</td>\n",
       "      <td>2023-07-13</td>\n",
       "      <td>0.000000</td>\n",
       "      <td>0.000000</td>\n",
       "      <td>0.333333</td>\n",
       "      <td>2.666667</td>\n",
       "      <td>37109.0</td>\n",
       "    </tr>\n",
       "  </tbody>\n",
       "</table>\n",
       "<p>76598 rows × 7 columns</p>\n",
       "</div>"
      ],
      "text/plain": [
       "                team       date  win_ratio_roll183D  draw_ratio_roll183D  \\\n",
       "0           Abkhazia 2012-09-25                 NaN                  NaN   \n",
       "1           Abkhazia 2012-10-21            0.000000             1.000000   \n",
       "2           Abkhazia 2014-06-01                 NaN                  NaN   \n",
       "3           Abkhazia 2014-06-02            0.000000             1.000000   \n",
       "4           Abkhazia 2014-06-04            0.500000             0.500000   \n",
       "...              ...        ...                 ...                  ...   \n",
       "76593  Åland Islands 2017-06-29            0.333333             0.666667   \n",
       "76594  Åland Islands 2023-07-09                 NaN                  NaN   \n",
       "76595  Åland Islands 2023-07-10            0.000000             0.000000   \n",
       "76596  Åland Islands 2023-07-11            0.000000             0.000000   \n",
       "76597  Åland Islands 2023-07-13            0.000000             0.000000   \n",
       "\n",
       "       avg_goals_scored_roll183D  avg_goals_conceded_roll183D  match_id  \n",
       "0                            NaN                          NaN   27115.0  \n",
       "1                       1.000000                     1.000000   27258.0  \n",
       "2                            NaN                          NaN   28628.0  \n",
       "3                       1.000000                     1.000000   28633.0  \n",
       "4                       1.500000                     1.000000   28659.0  \n",
       "...                          ...                          ...       ...  \n",
       "76593                   1.000000                     0.666667   31646.0  \n",
       "76594                        NaN                          NaN   37075.0  \n",
       "76595                   0.000000                     2.000000   37085.0  \n",
       "76596                   0.500000                     3.000000   37094.0  \n",
       "76597                   0.333333                     2.666667   37109.0  \n",
       "\n",
       "[76598 rows x 7 columns]"
      ]
     },
     "execution_count": 73,
     "metadata": {},
     "output_type": "execute_result"
    }
   ],
   "source": [
    "dict_perf_dfs[\"df_perf_roll183D\"]"
   ]
  },
  {
   "cell_type": "markdown",
   "metadata": {},
   "source": [
    "Then combine these into a single dataframe."
   ]
  },
  {
   "cell_type": "code",
   "execution_count": 74,
   "metadata": {},
   "outputs": [],
   "source": [
    "df_perf_rolling = dict_perf_dfs[\"df_perf_roll183D\"]\\\n",
    "    .merge(dict_perf_dfs[\"df_perf_roll365D\"], on = [\"team\", \"date\", \"match_id\"])\\\n",
    "    .merge(dict_perf_dfs[\"df_perf_roll548D\"], on = [\"team\", \"date\", \"match_id\"])\\\n",
    "    .merge(dict_perf_dfs[\"df_perf_roll730D\"], on = [\"team\", \"date\", \"match_id\"])\\\n",
    "    .dropna()\n",
    "df_perf_rolling[\"match_id\"] = df_perf_rolling[\"match_id\"].astype(int)"
   ]
  },
  {
   "cell_type": "markdown",
   "metadata": {},
   "source": [
    "## Adding performance data to match data\n",
    "\n",
    "We will add the performance data for home and away teams, and we should name these columns separately. First, we create dictionaries to map column names to home and away teams."
   ]
  },
  {
   "cell_type": "code",
   "execution_count": 75,
   "metadata": {},
   "outputs": [],
   "source": [
    "home_mapper = {}\n",
    "away_mapper = {}\n",
    "\n",
    "for col_name in df_perf_rolling.columns.drop([\"team\", \"date\", \"match_id\"]):\n",
    "    home_mapper[col_name] = f\"home_{col_name}\"\n",
    "    away_mapper[col_name] = f\"away_{col_name}\""
   ]
  },
  {
   "cell_type": "code",
   "execution_count": 76,
   "metadata": {},
   "outputs": [],
   "source": [
    "df_match_perf = df_recent.loc[\"1975-01-01\" : ]\\\n",
    "    .reset_index()\\\n",
    "    .merge(df_perf_rolling, left_on = [\"match_id\", \"date\", \"home_team\"], right_on = [\"match_id\", \"date\", \"team\"])\\\n",
    "    .rename(columns = home_mapper)\\\n",
    "    .drop(columns = \"team\")\\\n",
    "    .merge(df_perf_rolling, left_on = [\"match_id\", \"date\", \"away_team\"], right_on = [\"match_id\", \"date\", \"team\"])\\\n",
    "    .rename(columns = away_mapper)\\\n",
    "    .drop(columns = \"team\")"
   ]
  },
  {
   "cell_type": "markdown",
   "metadata": {},
   "source": [
    "Better to have home advantage as binary than boolean neutrality."
   ]
  },
  {
   "cell_type": "code",
   "execution_count": 77,
   "metadata": {},
   "outputs": [],
   "source": [
    "df_match_perf[\"host_advantage\"] = df_match_perf[\"neutral\"] * (-1) + 1"
   ]
  },
  {
   "cell_type": "markdown",
   "metadata": {},
   "source": [
    "Finally, we add the match result."
   ]
  },
  {
   "cell_type": "code",
   "execution_count": 78,
   "metadata": {},
   "outputs": [],
   "source": [
    "def get_match_result(row):\n",
    "    if row[\"home_score\"] > row[\"away_score\"]:\n",
    "        return \"home_win\"\n",
    "    elif row[\"home_score\"] < row[\"away_score\"]:\n",
    "        return \"away_win\"\n",
    "    else:\n",
    "        return \"draw\"\n",
    "    \n",
    "df_match_perf[\"result\"] = df_match_perf.apply(get_match_result, axis = 1)"
   ]
  },
  {
   "cell_type": "markdown",
   "metadata": {},
   "source": [
    "## Inspecting class balance\n",
    "\n",
    "Here we check if there is a tendency to put winning teams as home teams for games played in neutral venues."
   ]
  },
  {
   "cell_type": "code",
   "execution_count": 79,
   "metadata": {},
   "outputs": [
    {
     "data": {
      "text/plain": [
       "result\n",
       "home_win    0.421380\n",
       "away_win    0.336011\n",
       "draw        0.242609\n",
       "Name: proportion, dtype: float64"
      ]
     },
     "execution_count": 79,
     "metadata": {},
     "output_type": "execute_result"
    }
   ],
   "source": [
    "df_match_perf[df_match_perf[\"neutral\"]].value_counts(\"result\", normalize = True)"
   ]
  },
  {
   "cell_type": "markdown",
   "metadata": {},
   "source": [
    "To reduce potential bias, we can take a random half of neutral games, and reverse the order of home and away teams. To swap the column names, below is a dictionary."
   ]
  },
  {
   "cell_type": "code",
   "execution_count": 80,
   "metadata": {},
   "outputs": [],
   "source": [
    "reverse_mapper = {}\n",
    "\n",
    "for col_name in df_match_perf.columns:\n",
    "    if \"home\" in col_name:\n",
    "        reverse_mapper[col_name] = col_name.replace(\"home\", \"away\")\n",
    "    elif \"away\" in col_name:\n",
    "        reverse_mapper[col_name] = col_name.replace(\"away\", \"home\")"
   ]
  },
  {
   "cell_type": "code",
   "execution_count": 81,
   "metadata": {},
   "outputs": [],
   "source": [
    "df_nonneutral = df_match_perf[~df_match_perf[\"neutral\"]].copy()\n",
    "df_neutral = df_match_perf[df_match_perf[\"neutral\"]].sample(frac = 1, random_state = 42).copy()\n",
    "\n",
    "half_len = len(df_neutral) // 2\n",
    "df_neutral_keep = df_neutral.iloc[:half_len, :].copy()\n",
    "df_neutral_reverse = df_neutral.iloc[half_len:, :].copy()\n",
    "\n",
    "df_neutral_reverse = df_neutral_reverse.rename(columns = reverse_mapper)\n",
    "df_neutral_reverse[\"result\"] = df_neutral_reverse.apply(get_match_result, axis = 1)"
   ]
  },
  {
   "cell_type": "markdown",
   "metadata": {},
   "source": [
    "Recombine and check the balance again."
   ]
  },
  {
   "cell_type": "code",
   "execution_count": 82,
   "metadata": {},
   "outputs": [
    {
     "data": {
      "text/plain": [
       "result\n",
       "away_win    0.378963\n",
       "home_win    0.378428\n",
       "draw        0.242609\n",
       "Name: proportion, dtype: float64"
      ]
     },
     "execution_count": 82,
     "metadata": {},
     "output_type": "execute_result"
    }
   ],
   "source": [
    "df_match_perf_balanced = pd.concat([df_nonneutral, df_neutral_keep, df_neutral_reverse], axis = 0).sort_values(\"date\").reset_index(drop = True)\n",
    "df_match_perf_balanced[df_match_perf_balanced[\"neutral\"]].value_counts(\"result\", normalize = True)"
   ]
  },
  {
   "cell_type": "markdown",
   "metadata": {},
   "source": [
    "## Saving the final dataframe"
   ]
  },
  {
   "cell_type": "code",
   "execution_count": 83,
   "metadata": {},
   "outputs": [],
   "source": [
    "df_match_perf_balanced.to_pickle(\"../data/processed/rolling_performance.pkl\")"
   ]
  }
 ],
 "metadata": {
  "kernelspec": {
   "display_name": "int_football",
   "language": "python",
   "name": "python3"
  },
  "language_info": {
   "codemirror_mode": {
    "name": "ipython",
    "version": 3
   },
   "file_extension": ".py",
   "mimetype": "text/x-python",
   "name": "python",
   "nbconvert_exporter": "python",
   "pygments_lexer": "ipython3",
   "version": "3.12.7"
  }
 },
 "nbformat": 4,
 "nbformat_minor": 2
}

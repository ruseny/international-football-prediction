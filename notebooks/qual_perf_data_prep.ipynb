{
 "cells": [
  {
   "cell_type": "markdown",
   "metadata": {},
   "source": [
    "# Data preparation for predicting World Cup and Euro results from qualification performance"
   ]
  },
  {
   "cell_type": "markdown",
   "metadata": {},
   "source": [
    "Dependencies"
   ]
  },
  {
   "cell_type": "code",
   "execution_count": 1,
   "metadata": {},
   "outputs": [],
   "source": [
    "import pandas as pd\n",
    "from datetime import datetime"
   ]
  },
  {
   "cell_type": "markdown",
   "metadata": {},
   "source": [
    "**Data**: the dataset is downloaded from kaggle: https://www.kaggle.com/datasets/martj42/international-football-results-from-1872-to-2017 \n",
    "From 3 files, results.csv is used here."
   ]
  },
  {
   "cell_type": "code",
   "execution_count": 2,
   "metadata": {},
   "outputs": [
    {
     "name": "stdout",
     "output_type": "stream",
     "text": [
      "<class 'pandas.core.frame.DataFrame'>\n",
      "RangeIndex: 47399 entries, 0 to 47398\n",
      "Data columns (total 9 columns):\n",
      " #   Column      Non-Null Count  Dtype \n",
      "---  ------      --------------  ----- \n",
      " 0   date        47399 non-null  object\n",
      " 1   home_team   47399 non-null  object\n",
      " 2   away_team   47399 non-null  object\n",
      " 3   home_score  47399 non-null  int64 \n",
      " 4   away_score  47399 non-null  int64 \n",
      " 5   tournament  47399 non-null  object\n",
      " 6   city        47399 non-null  object\n",
      " 7   country     47399 non-null  object\n",
      " 8   neutral     47399 non-null  bool  \n",
      "dtypes: bool(1), int64(2), object(6)\n",
      "memory usage: 2.9+ MB\n"
     ]
    },
    {
     "data": {
      "text/html": [
       "<div>\n",
       "<style scoped>\n",
       "    .dataframe tbody tr th:only-of-type {\n",
       "        vertical-align: middle;\n",
       "    }\n",
       "\n",
       "    .dataframe tbody tr th {\n",
       "        vertical-align: top;\n",
       "    }\n",
       "\n",
       "    .dataframe thead th {\n",
       "        text-align: right;\n",
       "    }\n",
       "</style>\n",
       "<table border=\"1\" class=\"dataframe\">\n",
       "  <thead>\n",
       "    <tr style=\"text-align: right;\">\n",
       "      <th></th>\n",
       "      <th>date</th>\n",
       "      <th>home_team</th>\n",
       "      <th>away_team</th>\n",
       "      <th>home_score</th>\n",
       "      <th>away_score</th>\n",
       "      <th>tournament</th>\n",
       "      <th>city</th>\n",
       "      <th>country</th>\n",
       "      <th>neutral</th>\n",
       "    </tr>\n",
       "  </thead>\n",
       "  <tbody>\n",
       "    <tr>\n",
       "      <th>0</th>\n",
       "      <td>1872-11-30</td>\n",
       "      <td>Scotland</td>\n",
       "      <td>England</td>\n",
       "      <td>0</td>\n",
       "      <td>0</td>\n",
       "      <td>Friendly</td>\n",
       "      <td>Glasgow</td>\n",
       "      <td>Scotland</td>\n",
       "      <td>False</td>\n",
       "    </tr>\n",
       "    <tr>\n",
       "      <th>1</th>\n",
       "      <td>1873-03-08</td>\n",
       "      <td>England</td>\n",
       "      <td>Scotland</td>\n",
       "      <td>4</td>\n",
       "      <td>2</td>\n",
       "      <td>Friendly</td>\n",
       "      <td>London</td>\n",
       "      <td>England</td>\n",
       "      <td>False</td>\n",
       "    </tr>\n",
       "    <tr>\n",
       "      <th>2</th>\n",
       "      <td>1874-03-07</td>\n",
       "      <td>Scotland</td>\n",
       "      <td>England</td>\n",
       "      <td>2</td>\n",
       "      <td>1</td>\n",
       "      <td>Friendly</td>\n",
       "      <td>Glasgow</td>\n",
       "      <td>Scotland</td>\n",
       "      <td>False</td>\n",
       "    </tr>\n",
       "    <tr>\n",
       "      <th>3</th>\n",
       "      <td>1875-03-06</td>\n",
       "      <td>England</td>\n",
       "      <td>Scotland</td>\n",
       "      <td>2</td>\n",
       "      <td>2</td>\n",
       "      <td>Friendly</td>\n",
       "      <td>London</td>\n",
       "      <td>England</td>\n",
       "      <td>False</td>\n",
       "    </tr>\n",
       "    <tr>\n",
       "      <th>4</th>\n",
       "      <td>1876-03-04</td>\n",
       "      <td>Scotland</td>\n",
       "      <td>England</td>\n",
       "      <td>3</td>\n",
       "      <td>0</td>\n",
       "      <td>Friendly</td>\n",
       "      <td>Glasgow</td>\n",
       "      <td>Scotland</td>\n",
       "      <td>False</td>\n",
       "    </tr>\n",
       "  </tbody>\n",
       "</table>\n",
       "</div>"
      ],
      "text/plain": [
       "         date home_team away_team  home_score  away_score tournament     city  \\\n",
       "0  1872-11-30  Scotland   England           0           0   Friendly  Glasgow   \n",
       "1  1873-03-08   England  Scotland           4           2   Friendly   London   \n",
       "2  1874-03-07  Scotland   England           2           1   Friendly  Glasgow   \n",
       "3  1875-03-06   England  Scotland           2           2   Friendly   London   \n",
       "4  1876-03-04  Scotland   England           3           0   Friendly  Glasgow   \n",
       "\n",
       "    country  neutral  \n",
       "0  Scotland    False  \n",
       "1   England    False  \n",
       "2  Scotland    False  \n",
       "3   England    False  \n",
       "4  Scotland    False  "
      ]
     },
     "execution_count": 2,
     "metadata": {},
     "output_type": "execute_result"
    }
   ],
   "source": [
    "df_raw = pd.read_csv(\"../data/raw/results.csv\")\n",
    "df_raw.info() ; df_raw.head()"
   ]
  },
  {
   "cell_type": "code",
   "execution_count": 3,
   "metadata": {},
   "outputs": [],
   "source": [
    "df_recent = df_raw.copy()\n",
    "df_recent[\"date\"] = pd.to_datetime(df_recent[\"date\"], format = \"%Y-%m-%d\")"
   ]
  },
  {
   "cell_type": "markdown",
   "metadata": {},
   "source": [
    "## Creating datasets for qualification periods and main events\n",
    "\n",
    "Here, we focus on World Cup and Euro, because these two happen with two-year intervals from each other (except Covid-related delays), and make it easy to divide the entire timeframe neatly into qualification and main-event phases, where we can calculate performance metrics from the former, and build models for the latter. Other continental tournaments are not so regular (they switch between 2-, 3- and 4-year intervals, and odd- and even-numbered years, sometimes overlapping with the World Cup).\n",
    "\n",
    "The idea is to divide the entire time frame into 2-year periods named after the main event that concludes the period. Then, within each period, qualification and main-event phases are distinguished. The first main tournament considered here is World Cup 1978 (the first Euro with group stage is 1980). In order to include the qualification phase of World Cup 78, we also take into account the end date of Euro 1976.\n",
    "\n",
    "To begin with, main event dates are saved in a dictionary and a dataframe below. End dates are one day after the final, hence the beginning of the next period."
   ]
  },
  {
   "cell_type": "code",
   "execution_count": 4,
   "metadata": {},
   "outputs": [],
   "source": [
    "event_dates = {\n",
    "    \"Euro24\" : [datetime(2024, 6, 14), datetime(2024, 7, 15)], \n",
    "    \"Euro20\" : [datetime(2021, 6, 11), datetime(2021, 7, 12)], \n",
    "    \"Euro16\" : [datetime(2016, 6, 10), datetime(2016, 7, 11)], \n",
    "    \"Euro12\" : [datetime(2012, 6, 8), datetime(2012, 7, 2)], \n",
    "    \"Euro08\" : [datetime(2008, 6, 7), datetime(2008, 6, 30)], \n",
    "    \"Euro04\" : [datetime(2004, 6, 12), datetime(2004, 7, 5)], \n",
    "    \"Euro00\" : [datetime(2000, 6, 10), datetime(2000, 7, 3)], \n",
    "    \"Euro96\" : [datetime(1996, 6, 8), datetime(1996, 7, 1)], \n",
    "    \"Euro92\" : [datetime(1992, 6, 10), datetime(1992, 6, 27)], \n",
    "    \"Euro88\" : [datetime(1988, 6, 10), datetime(1988, 6, 26)],\n",
    "    \"Euro84\" : [datetime(1984, 6, 12), datetime(1984, 6, 28)], \n",
    "    \"Euro80\" : [datetime(1980, 6, 11), datetime(1980, 6, 23)], \n",
    "    \"Euro76\" : [datetime(1976, 6, 16), datetime(1976, 6, 21)], \n",
    "    \"WC22\" :   [datetime(2022, 11, 20), datetime(2022, 12, 19)], \n",
    "    \"WC18\" :   [datetime(2018, 6, 14), datetime(2018, 7, 16)], \n",
    "    \"WC14\" :   [datetime(2014, 6, 12), datetime(2014, 7, 14)], \n",
    "    \"WC10\" :   [datetime(2010, 6, 11), datetime(2010, 7, 12)], \n",
    "    \"WC06\" :   [datetime(2006, 6, 9), datetime(2005, 7, 10)], \n",
    "    \"WC02\" :   [datetime(2002, 5, 31), datetime(2002, 7, 1)], \n",
    "    \"WC98\" :   [datetime(1998, 6, 10), datetime(1998, 7, 13)], \n",
    "    \"WC94\" :   [datetime(1994, 6, 17), datetime(1994, 7, 18)], \n",
    "    \"WC90\" :   [datetime(1990, 6, 8), datetime(1990, 7, 9)], \n",
    "    \"WC86\" :   [datetime(1986, 5, 31), datetime(1986, 6, 30)], \n",
    "    \"WC82\" :   [datetime(1982, 6, 13), datetime(1982, 7, 12)], \n",
    "    \"WC78\" :   [datetime(1978, 6, 1), datetime(1978, 6, 26)]\n",
    "}\n",
    "\n",
    "df_event_dates = pd.DataFrame(event_dates).T.reset_index()\\\n",
    "    .rename(columns = {\"index\" : \"event\", 0 : \"start\", 1 : \"end\"})\\\n",
    "    .sort_values(\"start\").reset_index(drop = True)"
   ]
  },
  {
   "cell_type": "markdown",
   "metadata": {},
   "source": [
    "We add periods and phases (main and qualification) to the main dataframe using these dates as cut-off."
   ]
  },
  {
   "cell_type": "code",
   "execution_count": 5,
   "metadata": {},
   "outputs": [],
   "source": [
    "df_recent[\"period\"] = \"\"\n",
    "df_recent[\"phase\"] = \"\"\n",
    "\n",
    "for i in df_event_dates.iloc[:-1, :].index:\n",
    "    # i is the previous event, i+1 as the current event\n",
    "    df_recent.loc[\n",
    "        # period as between the end dates of main events, prveious and current \n",
    "        (df_recent[\"date\"] >= df_event_dates.loc[i, \"end\"]) & \n",
    "        (df_recent[\"date\"] < df_event_dates.loc[i+1, \"end\"]), \n",
    "        \"period\"\n",
    "        ] = df_event_dates.loc[i+1, \"event\"]\n",
    "    df_recent.loc[\n",
    "        # qualification phase as between the end of the previous event and the start of the current event\n",
    "        (df_recent[\"date\"] >= df_event_dates.loc[i, \"end\"]) &\n",
    "        (df_recent[\"date\"] < df_event_dates.loc[i+1, \"start\"]),\n",
    "        \"phase\"\n",
    "        ] = \"qualification\"\n",
    "    df_recent.loc[\n",
    "        # main phase as between the start and end dates of the current event\n",
    "        (df_recent[\"date\"] >= df_event_dates.loc[i+1, \"start\"]) &\n",
    "        (df_recent[\"date\"] < df_event_dates.loc[i+1, \"end\"]),\n",
    "        \"phase\"\n",
    "        ] = \"main\"\n",
    "        "
   ]
  },
  {
   "cell_type": "markdown",
   "metadata": {},
   "source": [
    "And we divide the games into qualifications and main events. In the timeframe of main events, there are also other games; so, we specifiy the tournament name as World Cup or Euro."
   ]
  },
  {
   "cell_type": "code",
   "execution_count": 6,
   "metadata": {},
   "outputs": [],
   "source": [
    "df_quals = df_recent[df_recent[\"phase\"] == \"qualification\"].drop(columns = \"phase\").copy()\n",
    "df_mains = df_recent[(df_recent[\"phase\"] == \"main\") & \n",
    "                     ((df_recent[\"tournament\"] == \"FIFA World Cup\") | (df_recent[\"tournament\"] == \"UEFA Euro\"))].drop(columns = \"phase\").copy()"
   ]
  },
  {
   "cell_type": "markdown",
   "metadata": {},
   "source": [
    "## Calculating qualification performance metrics\n",
    "\n",
    "For simplicity, we will not distinguish between home and away performance. Since the data consists of games, we have to process it from both home and away team perspective."
   ]
  },
  {
   "cell_type": "code",
   "execution_count": 7,
   "metadata": {},
   "outputs": [],
   "source": [
    "df_quals_hometeam = df_quals.drop(columns = \"away_team\")\\\n",
    "    .rename(columns = {\n",
    "        \"home_team\" : \"team\",\n",
    "        \"home_score\" : \"scored\",\n",
    "        \"away_score\" : \"conceded\"\n",
    "    }).reset_index(names = \"match_id\").copy()\n",
    "df_quals_awayteam = df_quals.drop(columns = \"home_team\")\\\n",
    "    .rename(columns = {\n",
    "        \"away_team\" : \"team\",\n",
    "        \"away_score\" : \"scored\",\n",
    "        \"home_score\" : \"conceded\"\n",
    "    }).reset_index(names = \"match_id\").copy()\n",
    "df_quals_teams = pd.concat([df_quals_hometeam, df_quals_awayteam], axis = 0).sort_values(\"match_id\").reset_index(drop = True)"
   ]
  },
  {
   "cell_type": "markdown",
   "metadata": {},
   "source": [
    "The performance metrics to be calculated are win and draw ratios, and average goals scored and conceded."
   ]
  },
  {
   "cell_type": "code",
   "execution_count": 8,
   "metadata": {},
   "outputs": [],
   "source": [
    "df_quals_teams[\"win\"] = (df_quals_teams[\"scored\"] > df_quals_teams[\"conceded\"]).astype(int)\n",
    "df_quals_teams[\"draw\"] = (df_quals_teams[\"scored\"] == df_quals_teams[\"conceded\"]).astype(int)"
   ]
  },
  {
   "cell_type": "code",
   "execution_count": 9,
   "metadata": {},
   "outputs": [],
   "source": [
    "df_quals_performance = df_quals_teams.groupby([\"team\", \"period\"]).agg(\n",
    "    win_ratio = (\"win\", \"mean\"),\n",
    "    draw_ratio = (\"draw\", \"mean\"),\n",
    "    avg_goals_scored = (\"scored\", \"mean\"),\n",
    "    avg_goals_conceded = (\"conceded\", \"mean\")\n",
    ").reset_index()"
   ]
  },
  {
   "cell_type": "markdown",
   "metadata": {},
   "source": [
    "## Adding performance metrics to main event matches"
   ]
  },
  {
   "cell_type": "markdown",
   "metadata": {},
   "source": [
    "Since these are mostly in a neutral venue in a host country, we begin with more meaningful column names."
   ]
  },
  {
   "cell_type": "code",
   "execution_count": 10,
   "metadata": {},
   "outputs": [],
   "source": [
    "df_mains = df_mains.rename(columns = {\n",
    "    \"home_team\" : \"team_A\",\n",
    "    \"away_team\" : \"team_B\",\n",
    "    \"home_score\" : \"A_score\",\n",
    "    \"away_score\" : \"B_score\"\n",
    "})\n",
    "df_mains[\"host_advantage\"] = df_mains[\"neutral\"] * (-1) + 1\n",
    "df_mains.drop(columns = [\"neutral\", \"tournament\", \"city\", \"country\"], inplace = True)"
   ]
  },
  {
   "cell_type": "markdown",
   "metadata": {},
   "source": [
    "And we add qualification performance metrics with respect to team A and team B."
   ]
  },
  {
   "cell_type": "code",
   "execution_count": 11,
   "metadata": {},
   "outputs": [],
   "source": [
    "df_mains_perf = df_mains\\\n",
    "    .merge(df_quals_performance, left_on = [\"team_A\", \"period\"], right_on = [\"team\", \"period\"])\\\n",
    "    .rename(columns = {\n",
    "        \"win_ratio\" : \"A_win_ratio\",\n",
    "        \"draw_ratio\" : \"A_draw_ratio\",\n",
    "        \"avg_goals_scored\" : \"A_avg_goals_scored\",\n",
    "        \"avg_goals_conceded\" : \"A_avg_goals_conceded\"\n",
    "    })\\\n",
    "    .drop(columns = \"team\")\\\n",
    "    .merge(df_quals_performance, left_on = [\"team_B\", \"period\"], right_on = [\"team\", \"period\"])\\\n",
    "    .rename(columns = {\n",
    "        \"win_ratio\" : \"B_win_ratio\",\n",
    "        \"draw_ratio\" : \"B_draw_ratio\",\n",
    "        \"avg_goals_scored\" : \"B_avg_goals_scored\",\n",
    "        \"avg_goals_conceded\" : \"B_avg_goals_conceded\"\n",
    "    })\\\n",
    "    .drop(columns = \"team\")\\\n",
    "    .sort_values(\"date\").reset_index(drop = True)"
   ]
  },
  {
   "cell_type": "markdown",
   "metadata": {},
   "source": [
    "We will try to predict the match results; so, we create a column for it."
   ]
  },
  {
   "cell_type": "code",
   "execution_count": 12,
   "metadata": {},
   "outputs": [],
   "source": [
    "def get_match_result(row):\n",
    "    if row[\"A_score\"] > row[\"B_score\"]:\n",
    "        return \"A_win\"\n",
    "    elif row[\"A_score\"] < row[\"B_score\"]:\n",
    "        return \"B_win\"\n",
    "    else:\n",
    "        return \"Draw\"\n",
    "df_mains_perf[\"result\"] = df_mains_perf.apply(get_match_result, axis = 1)"
   ]
  },
  {
   "cell_type": "markdown",
   "metadata": {},
   "source": [
    "## Inspecting class balance\n",
    "\n",
    "It is reasonable to expect that host teams have an advantage. But for neutral venues, the probabilities for A and B should be roughly equal."
   ]
  },
  {
   "cell_type": "code",
   "execution_count": 13,
   "metadata": {},
   "outputs": [
    {
     "data": {
      "text/plain": [
       "result\n",
       "A_win    0.407101\n",
       "B_win    0.337278\n",
       "Draw     0.255621\n",
       "Name: proportion, dtype: float64"
      ]
     },
     "execution_count": 13,
     "metadata": {},
     "output_type": "execute_result"
    }
   ],
   "source": [
    "df_mains_perf[df_mains_perf[\"host_advantage\"] == 0].value_counts(\"result\", normalize = True)"
   ]
  },
  {
   "cell_type": "markdown",
   "metadata": {},
   "source": [
    "For some reason, the winning teams are more often put under team A (home team originally). To reduce potential bias, let's reverse the order of teams for half of the neutral games."
   ]
  },
  {
   "cell_type": "code",
   "execution_count": 14,
   "metadata": {},
   "outputs": [],
   "source": [
    "df_hostteam = df_mains_perf[df_mains_perf[\"host_advantage\"] == 1].copy()\n",
    "df_neutral = df_mains_perf[df_mains_perf[\"host_advantage\"] == 0].sample(frac = 1, random_state = 42).copy()\n",
    "\n",
    "half_len = len(df_neutral) // 2\n",
    "df_neutral_keep = df_neutral.iloc[:half_len, :].copy()\n",
    "df_neutral_reverse = df_neutral.iloc[half_len:, :].copy()\n",
    "\n",
    "df_neutral_reverse = df_neutral_reverse.rename(columns = {\n",
    "    \"team_A\" : \"team_B\",\n",
    "    \"team_B\" : \"team_A\",\n",
    "    \"A_score\" : \"B_score\",\n",
    "    \"B_score\" : \"A_score\",\n",
    "    \"A_win_ratio\" : \"B_win_ratio\",\n",
    "    \"B_win_ratio\" : \"A_win_ratio\",\n",
    "    \"A_draw_ratio\" : \"B_draw_ratio\",\n",
    "    \"B_draw_ratio\" : \"A_draw_ratio\",\n",
    "    \"A_avg_goals_scored\" : \"B_avg_goals_scored\",\n",
    "    \"B_avg_goals_scored\" : \"A_avg_goals_scored\",\n",
    "    \"A_avg_goals_conceded\" : \"B_avg_goals_conceded\",\n",
    "    \"B_avg_goals_conceded\" : \"A_avg_goals_conceded\"\n",
    "})\n",
    "\n",
    "df_neutral_reverse[\"result\"] = df_neutral_reverse.apply(get_match_result, axis = 1)\n"
   ]
  },
  {
   "cell_type": "markdown",
   "metadata": {},
   "source": [
    "Combine back together, check balance."
   ]
  },
  {
   "cell_type": "code",
   "execution_count": 15,
   "metadata": {},
   "outputs": [
    {
     "data": {
      "text/plain": [
       "result\n",
       "A_win    0.382249\n",
       "B_win    0.362130\n",
       "Draw     0.255621\n",
       "Name: proportion, dtype: float64"
      ]
     },
     "execution_count": 15,
     "metadata": {},
     "output_type": "execute_result"
    }
   ],
   "source": [
    "df_mains_perf_balanced = pd.concat([df_hostteam, df_neutral_keep, df_neutral_reverse], axis = 0).sort_values(\"date\").reset_index(drop = True)\n",
    "\n",
    "df_mains_perf_balanced[df_mains_perf_balanced[\"host_advantage\"] == 0].value_counts(\"result\", normalize = True)"
   ]
  },
  {
   "cell_type": "markdown",
   "metadata": {},
   "source": [
    "## Saving the final dataframe"
   ]
  },
  {
   "cell_type": "code",
   "execution_count": 76,
   "metadata": {},
   "outputs": [],
   "source": [
    "df_mains_perf_balanced.to_pickle(\"../data/processed/qualification_performance.pkl\")"
   ]
  }
 ],
 "metadata": {
  "kernelspec": {
   "display_name": "euro24",
   "language": "python",
   "name": "python3"
  },
  "language_info": {
   "name": "python",
   "version": "3.10.0"
  }
 },
 "nbformat": 4,
 "nbformat_minor": 2
}
